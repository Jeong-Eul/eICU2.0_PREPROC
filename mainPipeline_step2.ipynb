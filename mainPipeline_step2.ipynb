{
 "cells": [
  {
   "cell_type": "code",
   "execution_count": 1,
   "metadata": {},
   "outputs": [],
   "source": [
    "import os \n",
    "import numpy as np\n",
    "import pandas as pd\n",
    "import sys\n",
    "from tqdm import tqdm\n",
    "from pathlib import Path\n",
    "import os\n",
    "import importlib\n",
    "import warnings\n",
    "import gc\n",
    "\n",
    "pd.set_option('mode.chained_assignment',  None) \n",
    "warnings.simplefilter(action='ignore', category=FutureWarning) \n",
    "\n",
    "module_path='preprocessing'\n",
    "if module_path not in sys.path:\n",
    "    sys.path.append(module_path)\n",
    "    \n",
    "import generation\n",
    "from generation import *\n",
    "\n",
    "local = \"/Users/DAHS/Desktop/early_prediction_of_circ_scl\"+\"/eicu-crd/preprocessing_data\"\n",
    "root_dir = \"/Users/DAHS/Desktop/early_prediction_of_circ_scl\""
   ]
  },
  {
   "cell_type": "code",
   "execution_count": 2,
   "metadata": {},
   "outputs": [],
   "source": [
    "# data = generate_adm()\n",
    "# data.to_csv('check_point_data.csv.gz', compression = 'gzip')\n",
    "\n",
    "# proc = generate_proc(data)\n",
    "# proc.to_csv('check_point_proc.csv.gz', compression = 'gzip')\n",
    "\n",
    "# out = generate_out(data)\n",
    "# out.to_csv('check_point_out.csv.gz', compression = 'gzip')\n",
    "\n",
    "data = pd.read_csv('check_point_data.csv.gz', compression = 'gzip')\n",
    "proc = pd.read_csv('check_point_proc.csv.gz', compression = 'gzip')\n",
    "out = pd.read_csv('check_point_out.csv.gz', compression = 'gzip')\n",
    "chart = pd.read_csv('check_point_chart.csv.gz', compression = 'gzip')\n",
    "labs = pd.read_csv('check_point_labs.csv.gz', compression = 'gzip')\n",
    "total_proc = pd.read_csv('check_point_totalproc.csv.gz', compression = 'gzip')\n",
    "meds = pd.read_csv('check_point_meds.csv.gz', compression = 'gzip')\n",
    "ing = pd.read_csv('check_point_ing.csv.gz', compression = 'gzip')\n",
    "vent = pd.read_csv('check_point_vent.csv.gz', compression = 'gzip')\n",
    "\n",
    "# chart = generate_chart(data)\n",
    "# chart.to_csv('check_point_chart.csv.gz', compression = 'gzip')\n",
    "\n",
    "# labs = generate_labs(data)\n",
    "# labs.to_csv('check_point_labs.csv.gz', compression = 'gzip')\n",
    "\n",
    "# total_proc = generate_total_procedure(proc, data)\n",
    "# total_proc.to_csv('check_point_totalproc.csv.gz', compression = 'gzip')\n",
    "\n",
    "# meds = generate_meds(data)\n",
    "# meds.to_csv('check_point_meds.csv.gz', compression = 'gzip')\n",
    "\n",
    "# ing = generate_ing(data)\n",
    "# ing.to_csv('check_point_ing.csv.gz', compression = 'gzip')\n",
    "\n",
    "# vent = generate_vent(data)\n",
    "# vent.to_csv('check_point_vent.csv.gz', compression = 'gzip')"
   ]
  },
  {
   "cell_type": "code",
   "execution_count": 3,
   "metadata": {},
   "outputs": [],
   "source": [
    "visit = pd.read_csv(\"/Users/DAHS/Desktop/early_prediction_of_circ_scl\"+\"/eicu-crd/2.0\" + \"/patient.csv.gz\", compression='gzip')"
   ]
  },
  {
   "cell_type": "code",
   "execution_count": 4,
   "metadata": {},
   "outputs": [
    {
     "name": "stdout",
     "output_type": "stream",
     "text": [
      "num of patient:  139367\n",
      "num of stay:  200859\n"
     ]
    }
   ],
   "source": [
    "hids=visit['patientunitstayid'].unique()\n",
    "print('num of patient: ', len(visit.uniquepid.unique()))\n",
    "print('num of stay: ', len(hids))"
   ]
  },
  {
   "cell_type": "code",
   "execution_count": 5,
   "metadata": {},
   "outputs": [
    {
     "name": "stdout",
     "output_type": "stream",
     "text": [
      "num of patient:  138479\n",
      "num of stay:  196301\n"
     ]
    }
   ],
   "source": [
    "hids=data['patientunitstayid'].unique()\n",
    "print('num of patient: ', len(data.uniquepid.unique()))\n",
    "print('num of stay: ', len(hids))"
   ]
  },
  {
   "cell_type": "code",
   "execution_count": 3,
   "metadata": {},
   "outputs": [
    {
     "name": "stdout",
     "output_type": "stream",
     "text": [
      "include start time 24\n",
      "num of patient:  105706\n",
      "num of stay:  134580\n"
     ]
    }
   ],
   "source": [
    "include_start_time = 24\n",
    "\n",
    "def cohort_restirction(include_start_time, data, meds, ing, total_proc, out, chart, labs, vent):\n",
    "    print(\"include start time\",include_start_time)\n",
    "    \n",
    "    data=data[(data['los(hour)'] >= include_start_time)]\n",
    "    hids=data['patientunitstayid'].unique()\n",
    "    print('num of patient: ', len(data.uniquepid.unique()))\n",
    "    print('num of stay: ', len(hids))\n",
    "    \n",
    "    ###MEDS\n",
    "\n",
    "    meds=meds[meds['patientunitstayid'].isin(data['patientunitstayid'])]\n",
    "    meds=meds[meds['start_time'] >= 0]\n",
    "    \n",
    "    ###ING\n",
    "\n",
    "    ing=ing[ing['patientunitstayid'].isin(data['patientunitstayid'])]\n",
    "    ing=ing[ing['start_time'] >= 0]\n",
    "\n",
    "    ###PROCS\n",
    "\n",
    "    total_proc=total_proc[total_proc['patientunitstayid'].isin(data['patientunitstayid'])]\n",
    "    total_proc=total_proc[total_proc['start_time']>= 0]\n",
    "        \n",
    "    ###OUT\n",
    "\n",
    "    out=out[out['patientunitstayid'].isin(data['patientunitstayid'])]\n",
    "    out=out[out['start_time'] >= 0]\n",
    "        \n",
    "    ###CHART\n",
    "\n",
    "    chart=chart[chart['patientunitstayid'].isin(data['patientunitstayid'])]\n",
    "    chart=chart[chart['start_time'] >= 0]\n",
    "        \n",
    "    ###LAB\n",
    "\n",
    "    labs=labs[labs['patientunitstayid'].isin(data['patientunitstayid'])]\n",
    "    labs=labs[labs['start_time'] >= 0]\n",
    "    \n",
    "    ###VENT\n",
    "\n",
    "    vent=vent[vent['patientunitstayid'].isin(data['patientunitstayid'])]\n",
    "    vent=vent[vent['start_time'] >= 0]\n",
    "    \n",
    "    gc.collect()\n",
    "    \n",
    "    return  data, meds, ing, total_proc, out, chart, labs, vent\n",
    "\n",
    "data_new, meds_new, ing_new, total_proc_new, out_new, chart_new, labs_new, vent_new = cohort_restirction(include_start_time, data, meds, ing, total_proc, out, chart, labs, vent)"
   ]
  },
  {
   "cell_type": "code",
   "execution_count": 4,
   "metadata": {},
   "outputs": [],
   "source": [
    "final_meds=pd.DataFrame()\n",
    "final_ing=pd.DataFrame()\n",
    "final_proc=pd.DataFrame()\n",
    "final_out=pd.DataFrame()\n",
    "final_chart=pd.DataFrame()\n",
    "final_labs=pd.DataFrame()\n",
    "final_vent=pd.DataFrame()\n",
    "\n",
    "\n",
    "meds_new=meds_new.sort_values(by=['start_time'])\n",
    "ing_new=ing_new.sort_values(by=['start_time'])\n",
    "proc_new=total_proc_new.sort_values(by=['start_time'])\n",
    "out_new=out_new.sort_values(by=['start_time'])\n",
    "chart_new=chart_new.sort_values(by=['start_time'])\n",
    "labs_new=labs_new.sort_values(by=['start_time'])\n",
    "vent_new=vent_new.sort_values(by=['start_time'])\n",
    "\n",
    "\n",
    "hids=data_new['patientunitstayid'].unique()\n",
    "\n",
    "sample_data = pd.concat([chart_new[['patientunitstayid', 'nursingchartcelltypevallabel']].rename(columns={\"nursingchartcelltypevallabel\":\"label\"}), \n",
    "                         labs_new[['patientunitstayid', 'labname']].rename(columns={\"labname\":\"label\"})], axis = 0)"
   ]
  },
  {
   "cell_type": "code",
   "execution_count": 5,
   "metadata": {},
   "outputs": [],
   "source": [
    "# Specify the item_ids we are interested in\n",
    "required_item_ids = {'Lactate', 'ABPs', 'ABPd'}\n",
    "\n",
    "# Find the stay_ids that have all the required item_ids at least once\n",
    "valid_stay_ids = sample_data[sample_data['label'].isin(required_item_ids)].groupby('patientunitstayid')['label'].nunique()\n",
    "valid_stay_ids = valid_stay_ids[valid_stay_ids == len(required_item_ids)].index"
   ]
  },
  {
   "cell_type": "code",
   "execution_count": 6,
   "metadata": {},
   "outputs": [],
   "source": [
    "meds_1 = meds_new[meds_new['patientunitstayid'].isin(valid_stay_ids)]\n",
    "ing_1 = ing_new[ing_new['patientunitstayid'].isin(valid_stay_ids)]\n",
    "proc_1 = proc_new[proc_new['patientunitstayid'].isin(valid_stay_ids)]\n",
    "out_1 = out_new[out_new['patientunitstayid'].isin(valid_stay_ids)]\n",
    "chart_1 = chart_new[chart_new['patientunitstayid'].isin(valid_stay_ids)]\n",
    "labs_1 = labs_new[labs_new['patientunitstayid'].isin(valid_stay_ids)]\n",
    "vent_1 = vent_new[vent_new['patientunitstayid'].isin(valid_stay_ids)]\n",
    "data_1 = data_new[data_new['patientunitstayid'].isin(valid_stay_ids)]"
   ]
  },
  {
   "cell_type": "code",
   "execution_count": 7,
   "metadata": {},
   "outputs": [
    {
     "name": "stdout",
     "output_type": "stream",
     "text": [
      "num of patient:  14760\n",
      "num of stay:  15813\n"
     ]
    }
   ],
   "source": [
    "hids=data_1['patientunitstayid'].unique()\n",
    "print('num of patient: ', len(data_1.uniquepid.unique()))\n",
    "print('num of stay: ', len(hids))"
   ]
  },
  {
   "cell_type": "code",
   "execution_count": 16,
   "metadata": {},
   "outputs": [
    {
     "data": {
      "text/plain": [
       "2543197.0"
      ]
     },
     "execution_count": 16,
     "metadata": {},
     "output_type": "execute_result"
    }
   ],
   "source": [
    "data_1['los(hour)'].sum()"
   ]
  },
  {
   "cell_type": "code",
   "execution_count": 17,
   "metadata": {},
   "outputs": [
    {
     "data": {
      "text/plain": [
       "0"
      ]
     },
     "execution_count": 17,
     "metadata": {},
     "output_type": "execute_result"
    }
   ],
   "source": [
    "import gc\n",
    "gc.collect()"
   ]
  },
  {
   "cell_type": "code",
   "execution_count": 8,
   "metadata": {},
   "outputs": [
    {
     "name": "stdout",
     "output_type": "stream",
     "text": [
      "# Unique gender:  3\n",
      "# Unique ethnicity:  7\n",
      "=====================\n",
      "Number of patient:  13616\n",
      "Number of stay:  14474\n",
      "Expected value of observation:  2543197.0\n",
      "=====================\n",
      "\n"
     ]
    },
    {
     "name": "stderr",
     "output_type": "stream",
     "text": [
      "Tabularize EHR for total stay 16,120:   1%|▏         | 191/14474 [12:53<16:06:26,  4.06s/it]"
     ]
    }
   ],
   "source": [
    "import os\n",
    "import warnings\n",
    "warnings.simplefilter(action='ignore', category=FutureWarning)\n",
    "pd.set_option('mode.chained_assignment',  None) \n",
    "warnings.filterwarnings(action='ignore', category=pd.errors.PerformanceWarning)\n",
    "\n",
    "import pdb\n",
    "\n",
    "final_meds = meds_1[(meds_1['start_time']>0)&(meds_1['stop_time']>0)].copy().fillna(0)\n",
    "final_ing= ing_1[(ing_1['start_time']>0)&(ing_1['stop_time']>0)].copy().fillna(0)\n",
    "final_proc = proc_1.copy() \n",
    "final_out= out_1.copy()\n",
    "final_chart= chart_1.copy()\n",
    "final_labs= labs_1.copy()\n",
    "final_vent = vent_1.copy()\n",
    "\n",
    "feat_med = True\n",
    "feat_ing = True\n",
    "feat_proc = True\n",
    "feat_out = True\n",
    "feat_chart = True\n",
    "feat_lab = True\n",
    "feat_vent = True\n",
    "\n",
    "tabularization(feat_med, feat_ing, feat_out, feat_chart, feat_lab, feat_vent,feat_proc,\n",
    "                   final_meds, final_ing, final_proc, final_out, final_chart, final_labs, final_vent,\n",
    "                   valid_stay_ids, data_1)\n",
    "\n",
    "data_1.to_csv(local+'/demo.csv')"
   ]
  },
  {
   "cell_type": "code",
   "execution_count": null,
   "metadata": {},
   "outputs": [],
   "source": []
  }
 ],
 "metadata": {
  "kernelspec": {
   "display_name": "MIMIC",
   "language": "python",
   "name": "python3"
  },
  "language_info": {
   "codemirror_mode": {
    "name": "ipython",
    "version": 3
   },
   "file_extension": ".py",
   "mimetype": "text/x-python",
   "name": "python",
   "nbconvert_exporter": "python",
   "pygments_lexer": "ipython3",
   "version": "3.8.16"
  }
 },
 "nbformat": 4,
 "nbformat_minor": 2
}
