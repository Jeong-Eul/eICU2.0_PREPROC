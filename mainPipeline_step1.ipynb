{
 "cells": [
  {
   "cell_type": "code",
   "execution_count": 1,
   "metadata": {},
   "outputs": [],
   "source": [
    "import pandas as pd\n",
    "import sys\n",
    "from pathlib import Path\n",
    "import os\n",
    "import importlib\n",
    "import warnings\n",
    "\n",
    "warnings.simplefilter(action='ignore', category=FutureWarning)\n",
    "pd.set_option('mode.chained_assignment',  None) \n",
    "\n",
    "module_path='preprocessing/day_intervals_preproc'\n",
    "if module_path not in sys.path:\n",
    "    sys.path.append(module_path)\n",
    "    \n",
    "module_path='utils'\n",
    "if module_path not in sys.path:\n",
    "    sys.path.append(module_path)\n",
    "    \n",
    "module_path='preprocessing/hosp_module_preproc'\n",
    "if module_path not in sys.path:\n",
    "    sys.path.append(module_path)\n",
    "\n",
    "import cohort_selection\n",
    "from cohort_selection import *\n",
    "\n",
    "import feature_selection_eicu\n",
    "from feature_selection_eicu import *"
   ]
  },
  {
   "cell_type": "code",
   "execution_count": 2,
   "metadata": {},
   "outputs": [],
   "source": [
    "# 1. DATA EXTRACTION\n",
    "# The cohort will be svaed in **./data/cohort/**\n",
    "version = 'Version 2.0'\n",
    "root_dir = \"/Users/DAHS/Desktop/early_prediction_of_circ_scl\"\n",
    "\n",
    "version_path=\"eicu-crd/2.0\"\n",
    "version=='Version 2.0'\n",
    "local = \"/Users/DAHS/Desktop/early_prediction_of_circ_scl\"+\"/eicu-crd/preprocessing_data\"\n",
    "\n",
    "data_icu=True\n",
    "data_mort=True\n",
    "data_admn=False\n",
    "data_los=False\n",
    "\n",
    "# cohort_output = cohort_selection.extract_data(root_dir)"
   ]
  },
  {
   "cell_type": "code",
   "execution_count": 3,
   "metadata": {},
   "outputs": [],
   "source": [
    "cohort_output = 'cohort_'"
   ]
  },
  {
   "cell_type": "code",
   "execution_count": 4,
   "metadata": {},
   "outputs": [
    {
     "name": "stdout",
     "output_type": "stream",
     "text": [
      "[EXTRACTING CHART EVENTS DATA]\n"
     ]
    },
    {
     "name": "stderr",
     "output_type": "stream",
     "text": [
      "16it [03:13, 12.08s/it]\n",
      "3it [00:30, 10.01s/it]\n"
     ]
    },
    {
     "name": "stdout",
     "output_type": "stream",
     "text": [
      "# Unique Events:   170052917\n",
      "# Admissions:   193697\n",
      "Total rows 171163323\n",
      "[SUCCESSFULLY SAVED CHART EVENTS DATA]\n"
     ]
    }
   ],
   "source": [
    "## 2. FEATURE SELECTION\n",
    "\n",
    "# when you try first, replace False to True\n",
    "\n",
    "diag_flag  =  False\n",
    "out_flag   =  False\n",
    "chart_flag =  True\n",
    "proc_flag  =  False\n",
    "med_flag   =  False\n",
    "ing_flag   =  False\n",
    "lab_flag   =  False\n",
    "\n",
    "feature_icu(root_dir, cohort_output, version_path, diag_flag, out_flag,\n",
    "            chart_flag, proc_flag, med_flag, ing_flag, lab_flag)"
   ]
  },
  {
   "cell_type": "code",
   "execution_count": null,
   "metadata": {},
   "outputs": [],
   "source": [
    "### 3. Feature selection\n",
    "\n",
    "select_diag=False\n",
    "select_med=False\n",
    "select_ing=False\n",
    "select_proc=True\n",
    "select_lab=False\n",
    "select_out=False\n",
    "select_chart=False\n",
    "\n",
    "diag_flag  =  False\n",
    "out_flag   =  False\n",
    "chart_flag =  False\n",
    "proc_flag  =  True\n",
    "med_flag   =  False\n",
    "ing_flag   =  False\n",
    "lab_flag   =  False\n",
    "\n",
    "features_selection_icu(local, cohort_output,\n",
    "                       diag_flag, proc_flag, med_flag, ing_flag, out_flag, lab_flag,\n",
    "                       chart_flag, select_diag, select_med, select_ing, select_proc,\n",
    "                       select_out, select_chart, select_lab)"
   ]
  },
  {
   "cell_type": "code",
   "execution_count": 218,
   "metadata": {},
   "outputs": [
    {
     "name": "stderr",
     "output_type": "stream",
     "text": [
      "C:\\Users\\DAHS\\AppData\\Local\\Temp\\ipykernel_33364\\2665679796.py:1: DtypeWarning: Columns (4) have mixed types. Specify dtype option on import or set low_memory=False.\n",
      "  chart = pd.read_csv(local+'/'+\"features/preproc_chart_icu.csv.gz\", compression='gzip',header=0)\n"
     ]
    }
   ],
   "source": [
    "chart = pd.read_csv(local+'/'+\"features/preproc_chart_icu.csv.gz\", compression='gzip',header=0)"
   ]
  },
  {
   "cell_type": "code",
   "execution_count": 219,
   "metadata": {},
   "outputs": [
    {
     "data": {
      "text/html": [
       "<div>\n",
       "<style scoped>\n",
       "    .dataframe tbody tr th:only-of-type {\n",
       "        vertical-align: middle;\n",
       "    }\n",
       "\n",
       "    .dataframe tbody tr th {\n",
       "        vertical-align: top;\n",
       "    }\n",
       "\n",
       "    .dataframe thead th {\n",
       "        text-align: right;\n",
       "    }\n",
       "</style>\n",
       "<table border=\"1\" class=\"dataframe\">\n",
       "  <thead>\n",
       "    <tr style=\"text-align: right;\">\n",
       "      <th></th>\n",
       "      <th>uniquepid</th>\n",
       "      <th>patientunitstayid</th>\n",
       "      <th>nursingchartid</th>\n",
       "      <th>event_time_from_admit</th>\n",
       "      <th>nursingchartvalue</th>\n",
       "    </tr>\n",
       "  </thead>\n",
       "  <tbody>\n",
       "    <tr>\n",
       "      <th>0</th>\n",
       "      <td>002-21222</td>\n",
       "      <td>141924</td>\n",
       "      <td>221469923</td>\n",
       "      <td>5714</td>\n",
       "      <td>36.6</td>\n",
       "    </tr>\n",
       "  </tbody>\n",
       "</table>\n",
       "</div>"
      ],
      "text/plain": [
       "   uniquepid  patientunitstayid  nursingchartid  event_time_from_admit  \\\n",
       "0  002-21222             141924       221469923                   5714   \n",
       "\n",
       "  nursingchartvalue  \n",
       "0              36.6  "
      ]
     },
     "execution_count": 219,
     "metadata": {},
     "output_type": "execute_result"
    }
   ],
   "source": [
    "chart.head(1)"
   ]
  },
  {
   "cell_type": "code",
   "execution_count": 216,
   "metadata": {},
   "outputs": [
    {
     "data": {
      "text/plain": [
       "array(['Amikacin Inj 700 mg in Sodium Chloride 0.9% 250 ml (ml/hr)'],\n",
       "      dtype=object)"
      ]
     },
     "execution_count": 216,
     "metadata": {},
     "output_type": "execute_result"
    }
   ],
   "source": [
    "chart[chart['drugname'].astype(str).str.contains('Amika')].drugname.unique()"
   ]
  },
  {
   "cell_type": "code",
   "execution_count": 190,
   "metadata": {},
   "outputs": [
    {
     "data": {
      "text/plain": [
       "100.0    29\n",
       "Name: drugrate, dtype: int64"
      ]
     },
     "execution_count": 190,
     "metadata": {},
     "output_type": "execute_result"
    }
   ],
   "source": [
    "ing[ing['drugname']=='D5/0.9% NaCl (ml/hr)'].drugrate.value_counts()"
   ]
  },
  {
   "cell_type": "code",
   "execution_count": 217,
   "metadata": {},
   "outputs": [
    {
     "data": {
      "text/html": [
       "<div>\n",
       "<style scoped>\n",
       "    .dataframe tbody tr th:only-of-type {\n",
       "        vertical-align: middle;\n",
       "    }\n",
       "\n",
       "    .dataframe tbody tr th {\n",
       "        vertical-align: top;\n",
       "    }\n",
       "\n",
       "    .dataframe thead th {\n",
       "        text-align: right;\n",
       "    }\n",
       "</style>\n",
       "<table border=\"1\" class=\"dataframe\">\n",
       "  <thead>\n",
       "    <tr style=\"text-align: right;\">\n",
       "      <th></th>\n",
       "      <th>uniquepid</th>\n",
       "      <th>patienthealthsystemstayid</th>\n",
       "      <th>patientunitstayid</th>\n",
       "      <th>infusiondrugid</th>\n",
       "      <th>start_hours_from_admit</th>\n",
       "      <th>stop_hours_from_admit</th>\n",
       "      <th>drugrate</th>\n",
       "    </tr>\n",
       "    <tr>\n",
       "      <th>drugname</th>\n",
       "      <th></th>\n",
       "      <th></th>\n",
       "      <th></th>\n",
       "      <th></th>\n",
       "      <th></th>\n",
       "      <th></th>\n",
       "      <th></th>\n",
       "    </tr>\n",
       "  </thead>\n",
       "  <tbody>\n",
       "    <tr>\n",
       "      <th>Amikacin Inj 700 mg in Sodium Chloride 0.9% 250 ml (ml/hr)</th>\n",
       "      <td>2</td>\n",
       "      <td>2</td>\n",
       "      <td>2</td>\n",
       "      <td>2</td>\n",
       "      <td>2</td>\n",
       "      <td>2</td>\n",
       "      <td>2</td>\n",
       "    </tr>\n",
       "  </tbody>\n",
       "</table>\n",
       "</div>"
      ],
      "text/plain": [
       "                                                    uniquepid  \\\n",
       "drugname                                                        \n",
       "Amikacin Inj 700 mg in Sodium Chloride 0.9% 250...          2   \n",
       "\n",
       "                                                    patienthealthsystemstayid  \\\n",
       "drugname                                                                        \n",
       "Amikacin Inj 700 mg in Sodium Chloride 0.9% 250...                          2   \n",
       "\n",
       "                                                    patientunitstayid  \\\n",
       "drugname                                                                \n",
       "Amikacin Inj 700 mg in Sodium Chloride 0.9% 250...                  2   \n",
       "\n",
       "                                                    infusiondrugid  \\\n",
       "drugname                                                             \n",
       "Amikacin Inj 700 mg in Sodium Chloride 0.9% 250...               2   \n",
       "\n",
       "                                                    start_hours_from_admit  \\\n",
       "drugname                                                                     \n",
       "Amikacin Inj 700 mg in Sodium Chloride 0.9% 250...                       2   \n",
       "\n",
       "                                                    stop_hours_from_admit  \\\n",
       "drugname                                                                    \n",
       "Amikacin Inj 700 mg in Sodium Chloride 0.9% 250...                      2   \n",
       "\n",
       "                                                    drugrate  \n",
       "drugname                                                      \n",
       "Amikacin Inj 700 mg in Sodium Chloride 0.9% 250...         2  "
      ]
     },
     "execution_count": 217,
     "metadata": {},
     "output_type": "execute_result"
    }
   ],
   "source": [
    "ing[ing.drugname.isin(['Amikacin Inj 700 mg in Sodium Chloride 0.9% 250 ml (ml/hr)'])].groupby('drugname').count()"
   ]
  },
  {
   "cell_type": "code",
   "execution_count": 53,
   "metadata": {},
   "outputs": [],
   "source": [
    "intake = pd.read_csv(root_dir+'/'+version_path+\"/intakeOutput.csv.gz\", compression='gzip',header=0)"
   ]
  },
  {
   "cell_type": "code",
   "execution_count": 77,
   "metadata": {},
   "outputs": [
    {
     "data": {
      "text/plain": [
       "array(['flowsheet|Flowsheet Cell Labels|I&O|Intake (ml)|Nutrition (ml)|Nutrition Total'],\n",
       "      dtype=object)"
      ]
     },
     "execution_count": 77,
     "metadata": {},
     "output_type": "execute_result"
    }
   ],
   "source": [
    "intake[intake['celllabel']=='Nutrition Total']['cellpath'].unique()"
   ]
  },
  {
   "cell_type": "code",
   "execution_count": 83,
   "metadata": {},
   "outputs": [
    {
     "data": {
      "text/plain": [
       "2446"
      ]
     },
     "execution_count": 83,
     "metadata": {},
     "output_type": "execute_result"
    }
   ],
   "source": [
    "import gc\n",
    "gc.collect()"
   ]
  },
  {
   "cell_type": "code",
   "execution_count": null,
   "metadata": {},
   "outputs": [],
   "source": []
  }
 ],
 "metadata": {
  "kernelspec": {
   "display_name": "MIMIC",
   "language": "python",
   "name": "python3"
  },
  "language_info": {
   "codemirror_mode": {
    "name": "ipython",
    "version": 3
   },
   "file_extension": ".py",
   "mimetype": "text/x-python",
   "name": "python",
   "nbconvert_exporter": "python",
   "pygments_lexer": "ipython3",
   "version": "3.8.16"
  }
 },
 "nbformat": 4,
 "nbformat_minor": 2
}
